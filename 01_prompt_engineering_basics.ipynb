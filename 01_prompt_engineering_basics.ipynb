{
 "cells": [
  {
   "cell_type": "code",
   "execution_count": null,
   "id": "c615a5e6-315f-4fe4-b2c9-254d3fef704e",
   "metadata": {},
   "outputs": [],
   "source": [
    "# Cell 1: Setup - Imports and Google Gemini API Configuration\n",
    "import os\n",
    "import google.generativeai as genai\n",
    "from dotenv import load_dotenv\n",
    "\n",
    "print(\"--- Step 1: Loading Environment Variables for Google ---\")\n",
    "\n",
    "# Load variables from the .env file.\n",
    "# Make sure your .env file has the GOOGLE_API_KEY.\n",
    "load_dotenv()\n",
    "google_api_key = os.getenv(\"GOOGLE_API_KEY\")\n",
    "\n",
    "# Safety check to ensure the key was found.\n",
    "if not google_api_key:\n",
    "    raise ValueError(\"Google API key not found. Check your .env file for the GOOGLE_API_KEY variable.\")\n",
    "else:\n",
    "    print(\"Google API Key loaded successfully.\")\n",
    "\n",
    "# Configure the Google AI library with your key.\n",
    "genai.configure(api_key=google_api_key)\n",
    "print(\"Google AI client is configured and ready.\")"
   ]
  },
  {
   "cell_type": "code",
   "execution_count": null,
   "id": "6d6c099f-d8c7-4c34-bb67-4625f2291142",
   "metadata": {},
   "outputs": [],
   "source": [
    "# Cell 2: List Models\n",
    "import google.generativeai as genai\n",
    "\n",
    "# Make sure you have already run the cell that configures your API key\n",
    "print(\"--- Available Gemini Models ---\")\n",
    "for m in genai.list_models():\n",
    "  if 'generateContent' in m.supported_generation_methods:\n",
    "    print(m.name)"
   ]
  },
  {
   "cell_type": "code",
   "execution_count": null,
   "id": "20b9f1db-69e8-42ba-a363-4724aabdfc10",
   "metadata": {},
   "outputs": [],
   "source": [
    "# Cell 3: Model Initialization and Prompt Execution\n",
    "print(\"\\n--- Step 2: Initializing the Gemini Pro model ---\")\n",
    "\n",
    "try:\n",
    "    # We select the model we want to use. 'gemini-pro' is excellent for text tasks.\n",
    "    model = genai.GenerativeModel('gemini-2.5-flash-lite')\n",
    "    print(\"Model 'gemini-2.5-flash-lite' initialized successfully.\")\n",
    "\n",
    "    # --- Sending a well-structured prompt ---\n",
    "    print(\"\\n--- Step 3: Sending prompt to Gemini ---\")\n",
    "\n",
    "    prompt = \"\"\"\n",
    "    Explain the concept of 'prompt engineering' to a junior developer.\n",
    "    Structure your answer with:\n",
    "    1. A one-sentence concept.\n",
    "    2. A simple, real-world analogy.\n",
    "    3. The main goal of using it.\n",
    "    \"\"\"\n",
    "\n",
    "    # Send the prompt to the model to generate content\n",
    "    response = model.generate_content(prompt)\n",
    "\n",
    "    # The response text is accessed directly via 'response.text'\n",
    "    print(\"\\n>>> Response from Gemini:\")\n",
    "    print(response.text)\n",
    "\n",
    "except Exception as e:\n",
    "    print(f\"An error occurred: {e}\")"
   ]
  }
 ],
 "metadata": {
  "kernelspec": {
   "display_name": "Python 3 (ipykernel)",
   "language": "python",
   "name": "python3"
  },
  "language_info": {
   "codemirror_mode": {
    "name": "ipython",
    "version": 3
   },
   "file_extension": ".py",
   "mimetype": "text/x-python",
   "name": "python",
   "nbconvert_exporter": "python",
   "pygments_lexer": "ipython3",
   "version": "3.13.5"
  }
 },
 "nbformat": 4,
 "nbformat_minor": 5
}
