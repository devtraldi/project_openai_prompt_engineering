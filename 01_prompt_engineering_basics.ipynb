{
 "cells": [
  {
   "cell_type": "code",
   "execution_count": 1,
   "id": "410a6ae1-0f48-475e-afae-5e98c2c007ec",
   "metadata": {},
   "outputs": [
    {
     "name": "stdout",
     "output_type": "stream",
     "text": [
      "--- Step 1: Loading Environment Variables ---\n",
      "API Key loaded successfully.\n",
      "OpenAI client is configured and ready.\n"
     ]
    }
   ],
   "source": [
    "# Cell 1: Setup - Imports and API Key Configuration\n",
    "import os\n",
    "import openai\n",
    "from dotenv import load_dotenv\n",
    "\n",
    "print(\"--- Step 1: Loading Environment Variables ---\")\n",
    "\n",
    "# Load variables from the .env file.\n",
    "# Make sure you have a .env file in the root of the project with your OPENAI_API_KEY.\n",
    "load_dotenv()\n",
    "api_key = os.getenv(\"OPENAI_API_KEY\")\n",
    "\n",
    "# Safety check to ensure the key was found.\n",
    "if not api_key:\n",
    "    raise ValueError(\"OpenAI API key not found. Check your .env file.\")\n",
    "else:\n",
    "    print(\"API Key loaded successfully.\")\n",
    "\n",
    "# Configure the OpenAI library with your key.\n",
    "# From this point on, the library knows how to authenticate.\n",
    "openai.api_key = api_key\n",
    "print(\"OpenAI client is configured and ready.\")"
   ]
  },
  {
   "cell_type": "code",
   "execution_count": 2,
   "id": "e4230105-6119-467e-8d6c-69edf73ca333",
   "metadata": {},
   "outputs": [],
   "source": [
    "# Cell 1: Setup - Imports and API Key Configuration\n",
    "def get_completion(prompt, model=\"gpt-3.5-turbo\"):\n",
    "    \"\"\"\n",
    "    A helper function to get a completion from the OpenAI API.\n",
    "    \"\"\"\n",
    "    messages = [{\"role\": \"user\", \"content\": prompt}]\n",
    "    try:\n",
    "        response = openai.chat.completions.create(\n",
    "            model=model,\n",
    "            messages=messages,\n",
    "            temperature=0, # We use 0 for more direct and predictable answers\n",
    "        )\n",
    "        return response.choices[0].message.content\n",
    "    except Exception as e:\n",
    "        return f\"An error occurred: {e}\""
   ]
  },
  {
   "cell_type": "code",
   "execution_count": 3,
   "id": "20b9f1db-69e8-42ba-a363-4724aabdfc10",
   "metadata": {},
   "outputs": [
    {
     "name": "stdout",
     "output_type": "stream",
     "text": [
      "--- Sending 'Bad' Prompt ---\n",
      ">>> Response from 'Bad' Prompt:\n",
      "An error occurred: Error code: 429 - {'error': {'message': 'You exceeded your current quota, please check your plan and billing details. For more information on this error, read the docs: https://platform.openai.com/docs/guides/error-codes/api-errors.', 'type': 'insufficient_quota', 'param': None, 'code': 'insufficient_quota'}}\n",
      "\n",
      "==================================================\n",
      "\n",
      "--- Sending 'Good' (Engineered) Prompt ---\n",
      "\n",
      ">>> Response from 'Good' Prompt:\n",
      "An error occurred: Error code: 429 - {'error': {'message': 'You exceeded your current quota, please check your plan and billing details. For more information on this error, read the docs: https://platform.openai.com/docs/guides/error-codes/api-errors.', 'type': 'insufficient_quota', 'param': None, 'code': 'insufficient_quota'}}\n"
     ]
    }
   ],
   "source": [
    "# Cell 3: \"Bad\" Prompt vs \"Good\" Prompt\n",
    "# --- \"Bad\" Prompt Example: Vague and unstructured ---\n",
    "print(\"--- Sending 'Bad' Prompt ---\")\n",
    "\n",
    "bad_prompt = \"Explain prompt engineering.\"\n",
    "bad_response = get_completion(bad_prompt)\n",
    "\n",
    "print(\">>> Response from 'Bad' Prompt:\")\n",
    "print(bad_response)\n",
    "\n",
    "\n",
    "# --- \"Good\" Prompt Example: Engineered for performance ---\n",
    "print(\"\\n\" + \"=\"*50)\n",
    "print(\"\\n--- Sending 'Good' (Engineered) Prompt ---\")\n",
    "\n",
    "good_prompt = \"\"\"\n",
    "Your role is a Senior AI Educator.\n",
    "Your task is to explain the concept of 'prompt engineering' to a junior developer.\n",
    "\n",
    "Provide a concise explanation in the following format:\n",
    "1. **Concept**: A one-sentence definition.\n",
    "2. **Analogy**: A simple, real-world analogy to help understanding.\n",
    "3. **Key Goal**: The primary objective of using it, in one sentence.\n",
    "\n",
    "Your tone should be encouraging and clear.\n",
    "\"\"\"\n",
    "good_response = get_completion(good_prompt)\n",
    "\n",
    "print(\"\\n>>> Response from 'Good' Prompt:\")\n",
    "print(good_response)"
   ]
  }
 ],
 "metadata": {
  "kernelspec": {
   "display_name": "Python 3 (ipykernel)",
   "language": "python",
   "name": "python3"
  },
  "language_info": {
   "codemirror_mode": {
    "name": "ipython",
    "version": 3
   },
   "file_extension": ".py",
   "mimetype": "text/x-python",
   "name": "python",
   "nbconvert_exporter": "python",
   "pygments_lexer": "ipython3",
   "version": "3.13.5"
  }
 },
 "nbformat": 4,
 "nbformat_minor": 5
}
