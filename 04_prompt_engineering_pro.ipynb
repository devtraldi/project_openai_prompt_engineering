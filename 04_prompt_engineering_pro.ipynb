{
 "cells": [
  {
   "cell_type": "markdown",
   "id": "47b96a02-6e57-4905-beb0-be1185b974fd",
   "metadata": {},
   "source": [
    "***Cell 1: Setup - Imports and API Configuration***"
   ]
  },
  {
   "cell_type": "code",
   "execution_count": 1,
   "id": "198a1c67-aa47-4de9-b0f8-5c6bb9d1d96b",
   "metadata": {},
   "outputs": [
    {
     "name": "stdout",
     "output_type": "stream",
     "text": [
      "✅ Google Gemini client configured successfully.\n"
     ]
    }
   ],
   "source": [
    "import os\n",
    "import google.generativeai as genai\n",
    "from dotenv import load_dotenv\n",
    "import ipywidgets as widgets\n",
    "from IPython.display import display, clear_output\n",
    "import markdown\n",
    "import re\n",
    "import uuid\n",
    "\n",
    "# --- API Configuration ---\n",
    "load_dotenv()\n",
    "google_api_key = os.getenv(\"GOOGLE_API_KEY\")\n",
    "\n",
    "if not google_api_key:\n",
    "    raise ValueError(\"Google API key not found in .env file.\")\n",
    "else:\n",
    "    genai.configure(api_key=google_api_key)\n",
    "    print(\"✅ Google Gemini client configured successfully.\")"
   ]
  },
  {
   "cell_type": "markdown",
   "id": "46397e7e-e806-4788-a218-dfba0816b836",
   "metadata": {},
   "source": [
    "***Cell 2: The Control Panel (Interactive Widgets & Layout)***"
   ]
  },
  {
   "cell_type": "code",
   "execution_count": 5,
   "id": "d8264281-0208-45bb-89b7-5c01195708bb",
   "metadata": {},
   "outputs": [
    {
     "data": {
      "application/vnd.jupyter.widget-view+json": {
       "model_id": "3346de2e017947b7a0ec528e3683ddbb",
       "version_major": 2,
       "version_minor": 0
      },
      "text/plain": [
       "VBox(children=(HTML(value='<h3>1. Model & Creativity Settings</h3>'), HBox(children=(Dropdown(description='Mod…"
      ]
     },
     "metadata": {},
     "output_type": "display_data"
    }
   ],
   "source": [
    "# --- Section 1: Model & Creativity Parameters ---\n",
    "title_model = widgets.HTML(\"<h3>1. Model & Creativity Settings</h3>\")\n",
    "\n",
    "model_selector = widgets.Dropdown(\n",
    "    options=['gemini-2.5-flash', 'gemini-1.5-flash-latest', 'gemini-1.5-pro'],\n",
    "    value='gemini-1.5-flash-latest',\n",
    "    description='Model:',\n",
    "    layout={'width': 'auto'}\n",
    ")\n",
    "temperature_slider = widgets.FloatSlider(\n",
    "    value=0.7, min=0, max=2.0, step=0.1, description='Temperature:', readout_format='.1f', layout={'width': 'auto'}\n",
    ")\n",
    "top_p_slider = widgets.FloatSlider(\n",
    "    value=0.95, min=0, max=1.0, step=0.01, description='Top-P:', readout_format='.2f', layout={'width': 'auto'}\n",
    ")\n",
    "top_k_slider = widgets.IntSlider(\n",
    "    value=40, min=1, max=100, step=1, description='Top-K:', layout={'width': 'auto'}\n",
    ")\n",
    "param_tip = widgets.HTML(\"<p><i><b>Pro Tip:</b> For best results, adjust either <b>Temperature</b> OR <b>Top-P/Top-K</b>, not all at once.</i></p>\")\n",
    "\n",
    "model_creativity_box = widgets.HBox([model_selector, temperature_slider, top_p_slider, top_k_slider])\n",
    "\n",
    "# --- Section 2: Output Control ---\n",
    "title_output = widgets.HTML(\"<h3>2. Output Control</h3>\")\n",
    "max_tokens_slider = widgets.IntSlider(\n",
    "    value=2048, min=256, max=8192, step=256, description='Max Tokens:'\n",
    ")\n",
    "\n",
    "# --- Section 3: Prompt Definition ---\n",
    "title_prompts = widgets.HTML(\"<h3>3. Prompt Definition</h3>\")\n",
    "system_prompt_input = widgets.Textarea(\n",
    "    value='You are a helpful and creative AI assistant that writes Python code.',\n",
    "    description='System Prompt:', layout={'height': '100px', 'width': '99%'}\n",
    ")\n",
    "user_prompt_input = widgets.Textarea(\n",
    "    value='Write a Python function that takes a list of numbers and returns a new list with only the even numbers.',\n",
    "    description='User Prompt:', layout={'height': '200px', 'width': '99%'}\n",
    ")\n",
    "\n",
    "# --- Section 4: Execution & Output ---\n",
    "title_execution = widgets.HTML(\"<h3>4. Execution</h3>\")\n",
    "run_button = widgets.Button(description='Generate Response', button_style='success', icon='rocket', layout={'width': '200px'})\n",
    "output_area = widgets.Output()\n",
    "\n",
    "# --- Final Layout Assembly ---\n",
    "control_panel = widgets.VBox([\n",
    "    title_model,\n",
    "    model_creativity_box,\n",
    "    param_tip,\n",
    "    title_output,\n",
    "    max_tokens_slider,\n",
    "    title_prompts,\n",
    "    system_prompt_input,\n",
    "    user_prompt_input,\n",
    "    title_execution,\n",
    "    run_button,\n",
    "    output_area\n",
    "])\n",
    "\n",
    "display(control_panel)"
   ]
  },
  {
   "cell_type": "markdown",
   "id": "c26afd40-6c75-473f-8a73-239c4c4abeb4",
   "metadata": {},
   "source": [
    "***Cell 3: The Execution Logic (The \"Engine\") with Advanced Rendering***"
   ]
  },
  {
   "cell_type": "code",
   "execution_count": 6,
   "id": "7bd173ce-9905-423f-b8aa-27ec650b343e",
   "metadata": {},
   "outputs": [],
   "source": [
    "import uuid\n",
    "from pygments.formatters import HtmlFormatter\n",
    "import markdown\n",
    "import re\n",
    "\n",
    "def generate_response_with_streaming(b):\n",
    "    \"\"\"\n",
    "    Main execution function, triggers on button click. This final version ensures\n",
    "    proper markdown rendering for all parts.\n",
    "    \"\"\"\n",
    "    with output_area:\n",
    "        clear_output(wait=True)\n",
    "        print(\"🚀 Sending request to Gemini...\")\n",
    "\n",
    "        generation_config = {\n",
    "            \"temperature\": temperature_slider.value, \"top_p\": top_p_slider.value,\n",
    "            \"top_k\": top_k_slider.value, \"max_output_tokens\": max_tokens_slider.value,\n",
    "        }\n",
    "        \n",
    "        try:\n",
    "            model = genai.GenerativeModel(\n",
    "                model_selector.value,\n",
    "                system_instruction=system_prompt_input.value\n",
    "            )\n",
    "            # We will use non-streaming for the final version to simplify rendering logic\n",
    "            response = model.generate_content(\n",
    "                user_prompt_input.value,\n",
    "                generation_config=generation_config\n",
    "            )\n",
    "            \n",
    "            clear_output(wait=True)\n",
    "            print(\"--- ✅ Gemini's Response ---\")\n",
    "\n",
    "            full_response_text = response.text\n",
    "            \n",
    "            if not full_response_text.strip():\n",
    "                display(widgets.HTML(\"<i>The model returned no content.</i>\"))\n",
    "                return\n",
    "\n",
    "            # --- Final Rendering Logic ---\n",
    "            \n",
    "            # 1. Generate CSS for syntax highlighting\n",
    "            css = HtmlFormatter(style='default').get_style_defs('.codehilite')\n",
    "\n",
    "            # 2. Split the text by code blocks\n",
    "            parts = re.split(r'(```(?:\\w+\\n)?[\\s\\S]*?```)', full_response_text)\n",
    "            \n",
    "            for part in parts:\n",
    "                if not part.strip():\n",
    "                    continue\n",
    "\n",
    "                if part.startswith('```'):\n",
    "                    # --- RENDER A CODE BLOCK ---\n",
    "                    code_content = re.sub(r'```(?:\\w+\\n)?', '', part).rstrip('`')\n",
    "                    \n",
    "                    # Convert just the code to highlighted HTML\n",
    "                    highlighted_code_html = markdown.markdown(f\"```{code_content}\", extensions=['fenced_code', 'codehilite'])\n",
    "                    \n",
    "                    text_area_id = f\"code-area-{uuid.uuid4()}\"\n",
    "                    \n",
    "                    # Create the button with self-contained, robust JS\n",
    "                    button_html = f\"\"\"\n",
    "                    <textarea id='{text_area_id}' style='position: absolute; left: -9999px;'>{code_content}</textarea>\n",
    "                    <button onclick=\"\n",
    "                        var text = document.getElementById('{text_area_id}').value;\n",
    "                        navigator.clipboard.writeText(text).then(() => {{\n",
    "                            this.innerHTML = 'Copied!';\n",
    "                            setTimeout(() => {{ this.innerHTML = 'Copy Code'; }}, 2000);\n",
    "                        }});\n",
    "                    \" style='position: absolute; top: 8px; right: 8px; border: 1px solid #ccc; border-radius: 4px; padding: 2px 8px; cursor: pointer; font-size: 12px;'>Copy Code</button>\n",
    "                    \"\"\"\n",
    "                    \n",
    "                    # Assemble the final HTML for this block inside a container\n",
    "                    final_html = f\"\"\"\n",
    "                    <style>{css}</style>\n",
    "                    <div style='position: relative; border: 1px solid #e0e0e0; border-radius: 5px; background-color: #f9f9f9; padding-top: 5px; margin-bottom:10px;'>\n",
    "                        {button_html}\n",
    "                        {highlighted_code_html}\n",
    "                    </div>\n",
    "                    \"\"\"\n",
    "                    display(widgets.HTML(value=final_html))\n",
    "\n",
    "                else:\n",
    "                    # --- RENDER A TEXT BLOCK ---\n",
    "                    text_html = markdown.markdown(part)\n",
    "                    display(widgets.HTML(value=f\"<div style='margin-bottom:10px;'>{text_html}</div>\"))\n",
    "\n",
    "        except Exception as e:\n",
    "            clear_output(wait=True)\n",
    "            display(widgets.HTML(value=f\"<div style='border: 1px solid red; padding: 15px; color: red;'><b>An error occurred:</b><br>{e}</div>\"))"
   ]
  },
  {
   "cell_type": "markdown",
   "id": "6e4adf58-6499-47eb-a5de-4acba3544aac",
   "metadata": {},
   "source": [
    "***Cell 4: Connecting the Button to the Logic***"
   ]
  },
  {
   "cell_type": "code",
   "execution_count": 7,
   "id": "2ab88f7b-4ebb-46d2-9ff1-5fad38e5341a",
   "metadata": {},
   "outputs": [],
   "source": [
    "# This line \"connects\" the button to our function.\n",
    "# When the button is clicked, the 'generate_response' function will be executed.\n",
    "run_button.on_click(generate_response_with_streaming)"
   ]
  }
 ],
 "metadata": {
  "kernelspec": {
   "display_name": "Python 3 (ipykernel)",
   "language": "python",
   "name": "python3"
  },
  "language_info": {
   "codemirror_mode": {
    "name": "ipython",
    "version": 3
   },
   "file_extension": ".py",
   "mimetype": "text/x-python",
   "name": "python",
   "nbconvert_exporter": "python",
   "pygments_lexer": "ipython3",
   "version": "3.13.5"
  }
 },
 "nbformat": 4,
 "nbformat_minor": 5
}
