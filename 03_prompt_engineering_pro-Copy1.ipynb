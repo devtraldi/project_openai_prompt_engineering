{
 "cells": [
  {
   "cell_type": "markdown",
   "id": "47b96a02-6e57-4905-beb0-be1185b974fd",
   "metadata": {},
   "source": [
    "***Cell 1: Setup - Imports and API Configuration***"
   ]
  },
  {
   "cell_type": "code",
   "execution_count": 1,
   "id": "198a1c67-aa47-4de9-b0f8-5c6bb9d1d96b",
   "metadata": {},
   "outputs": [
    {
     "name": "stdout",
     "output_type": "stream",
     "text": [
      "✅ Google Gemini client configured successfully.\n"
     ]
    }
   ],
   "source": [
    "import os\n",
    "import google.generativeai as genai\n",
    "from dotenv import load_dotenv\n",
    "import ipywidgets as widgets\n",
    "from IPython.display import display, clear_output\n",
    "\n",
    "# Configure API Key\n",
    "load_dotenv()\n",
    "google_api_key = os.getenv(\"GOOGLE_API_KEY\")\n",
    "if not google_api_key:\n",
    "    raise ValueError(\"Google API key not found in .env file.\")\n",
    "genai.configure(api_key=google_api_key)\n",
    "print(\"✅ Google Gemini client configured successfully.\")"
   ]
  },
  {
   "cell_type": "markdown",
   "id": "46397e7e-e806-4788-a218-dfba0816b836",
   "metadata": {},
   "source": [
    "***Cell 2: The Control Panel (Interactive Widgets)***"
   ]
  },
  {
   "cell_type": "code",
   "execution_count": 5,
   "id": "d8264281-0208-45bb-89b7-5c01195708bb",
   "metadata": {},
   "outputs": [
    {
     "data": {
      "application/vnd.jupyter.widget-view+json": {
       "model_id": "d0680918b98144abad2b851c187d4c13",
       "version_major": 2,
       "version_minor": 0
      },
      "text/plain": [
       "VBox(children=(HTML(value='<h3>1. Model & Creativity Settings</h3>'), HBox(children=(Dropdown(description='Mod…"
      ]
     },
     "metadata": {},
     "output_type": "display_data"
    }
   ],
   "source": [
    "# --- Section 1: Model & Creativity Parameters ---\n",
    "title_model = widgets.HTML(\"<h3>1. Model & Creativity Settings</h3>\")\n",
    "\n",
    "model_selector = widgets.Dropdown(\n",
    "    options=['gemini-2.5-flash', 'gemini-1.5-flash-latest', 'gemini-1.5-pro'],\n",
    "    value='gemini-1.5-flash-latest',\n",
    "    description='Model:',\n",
    "    layout={'width': 'auto'}\n",
    ")\n",
    "temperature_slider = widgets.FloatSlider(\n",
    "    value=0.7, min=0, max=2.0, step=0.1, description='Temperature:', readout_format='.1f', layout={'width': 'auto'}\n",
    ")\n",
    "top_p_slider = widgets.FloatSlider(\n",
    "    value=0.95, min=0, max=1.0, step=0.01, description='Top-P:', readout_format='.2f', layout={'width': 'auto'}\n",
    ")\n",
    "top_k_slider = widgets.IntSlider(\n",
    "    value=40, min=1, max=100, step=1, description='Top-K:', layout={'width': 'auto'}\n",
    ")\n",
    "# Tip about using creativity parameters\n",
    "param_tip = widgets.HTML(\"<p><i><b>Pro Tip:</b> For best results, adjust either <b>Temperature</b> OR <b>Top-P/Top-K</b>, not all at once.</i></p>\")\n",
    "\n",
    "# We use an HBox to arrange these widgets horizontally for a cleaner look\n",
    "model_creativity_box = widgets.HBox([model_selector, temperature_slider, top_p_slider, top_k_slider])\n",
    "\n",
    "\n",
    "# --- Section 2: Output Control ---\n",
    "title_output = widgets.HTML(\"<h3>2. Output Control</h3>\")\n",
    "max_tokens_slider = widgets.IntSlider(\n",
    "    value=2048, min=256, max=8192, step=256, description='Max Tokens:'\n",
    ")\n",
    "\n",
    "# --- Section 3: Prompt Definition ---\n",
    "title_prompts = widgets.HTML(\"<h3>3. Prompt Definition</h3>\")\n",
    "system_prompt_input = widgets.Textarea(\n",
    "    value='You are a helpful and creative AI assistant.',\n",
    "    description='System Prompt:', layout={'height': '100px', 'width': '99%'}\n",
    ")\n",
    "user_prompt_input = widgets.Textarea(\n",
    "    value=\"Explain the concept of 'prompt engineering' to a junior developer, providing a simple, real-world analogy.\",\n",
    "    description='User Prompt:', layout={'height': '200px', 'width': '99%'}\n",
    ")\n",
    "\n",
    "# --- Section 4: Execution & Output ---\n",
    "title_execution = widgets.HTML(\"<h3>4. Execution</h3>\")\n",
    "run_button = widgets.Button(description='Generate Response', button_style='success', icon='rocket', layout={'width': '200px'})\n",
    "output_area = widgets.Output()\n",
    "\n",
    "\n",
    "# We use a VBox to arrange all sections vertically\n",
    "# This creates the final, clean layout of our entire application\n",
    "control_panel = widgets.VBox([\n",
    "    title_model,\n",
    "    model_creativity_box,\n",
    "    param_tip,\n",
    "    title_output,\n",
    "    max_tokens_slider,\n",
    "    title_prompts,\n",
    "    system_prompt_input,\n",
    "    user_prompt_input,\n",
    "    title_execution,\n",
    "    run_button,\n",
    "    output_area\n",
    "])\n",
    "\n",
    "display(control_panel)"
   ]
  },
  {
   "cell_type": "markdown",
   "id": "c26afd40-6c75-473f-8a73-239c4c4abeb4",
   "metadata": {},
   "source": [
    "***Cell 3: The Execution Logic (The \"Engine\")***"
   ]
  },
  {
   "cell_type": "code",
   "execution_count": 6,
   "id": "7bd173ce-9905-423f-b8aa-27ec650b343e",
   "metadata": {},
   "outputs": [],
   "source": [
    "def generate_response_with_streaming(b):\n",
    "    \"\"\"Triggers on button click, calls Gemini API with all configured parameters and streaming.\"\"\"\n",
    "    with output_area:\n",
    "        clear_output(wait=True) # wait=True prevents flickering\n",
    "        print(\"🚀 Sending request to Gemini...\")\n",
    "\n",
    "        # Gather all values from the widgets\n",
    "        generation_config = {\n",
    "            \"temperature\": temperature_slider.value,\n",
    "            \"top_p\": top_p_slider.value,\n",
    "            \"top_k\": top_k_slider.value,\n",
    "            \"max_output_tokens\": max_tokens_slider.value,\n",
    "        }\n",
    "        \n",
    "        try:\n",
    "            model = genai.GenerativeModel(\n",
    "                model_selector.value,\n",
    "                system_instruction=system_prompt_input.value\n",
    "            )\n",
    "\n",
    "            # Generate content with stream=True and the full generation_config\n",
    "            response_stream = model.generate_content(\n",
    "                user_prompt_input.value,\n",
    "                stream=True,\n",
    "                generation_config=generation_config\n",
    "            )\n",
    "            \n",
    "            # --- Streaming and Enhanced Output Display ---\n",
    "            clear_output(wait=True)\n",
    "            \n",
    "            # A styled container for the response\n",
    "            html_output = widgets.HTML(value=\"<div style='border: 1px solid #e0e0e0; border-radius: 5px; padding: 15px; background-color: #f9f9f9;'></div>\")\n",
    "            display(html_output)\n",
    "            \n",
    "            full_response_text = \"\"\n",
    "            for chunk in response_stream:\n",
    "                if chunk.text:\n",
    "                    full_response_text += chunk.text\n",
    "                    html_output.value = f\"<div style='border: 1px solid #e0e0e0; border-radius: 5px; padding: 15px; background-color: #f9f9f9;'>{full_response_text.replace('\\n', '<br>')}</div>\"\n",
    "            \n",
    "            if not full_response_text.strip():\n",
    "                html_output.value = \"<div style='border: 1px solid #e0e0e0; border-radius: 5px; padding: 15px; background-color: #f9f9f9;'><i>O modelo não retornou nenhum conteúdo.</i></div>\"\n",
    "\n",
    "        except Exception as e:\n",
    "            clear_output(wait=True)\n",
    "            display(widgets.HTML(value=f\"<div style='border: 1px solid red; padding: 15px; color: red;'><b>An error occurred:</b><br>{e}</div>\"))"
   ]
  },
  {
   "cell_type": "markdown",
   "id": "6e4adf58-6499-47eb-a5de-4acba3544aac",
   "metadata": {},
   "source": [
    "***Cell 4: Connecting the Button to the Logic***"
   ]
  },
  {
   "cell_type": "code",
   "execution_count": 7,
   "id": "2ab88f7b-4ebb-46d2-9ff1-5fad38e5341a",
   "metadata": {},
   "outputs": [],
   "source": [
    "# This line \"connects\" the button to our function.\n",
    "# When the button is clicked, the 'generate_response' function will be executed.\n",
    "run_button.on_click(generate_response_with_streaming)"
   ]
  },
  {
   "cell_type": "code",
   "execution_count": null,
   "id": "513d4160-f5e0-4435-8463-b6876d122ace",
   "metadata": {},
   "outputs": [],
   "source": []
  },
  {
   "cell_type": "code",
   "execution_count": null,
   "id": "6acbbf5e-677a-4c40-8092-7db05443bcfc",
   "metadata": {},
   "outputs": [],
   "source": []
  }
 ],
 "metadata": {
  "kernelspec": {
   "display_name": "Python 3 (ipykernel)",
   "language": "python",
   "name": "python3"
  },
  "language_info": {
   "codemirror_mode": {
    "name": "ipython",
    "version": 3
   },
   "file_extension": ".py",
   "mimetype": "text/x-python",
   "name": "python",
   "nbconvert_exporter": "python",
   "pygments_lexer": "ipython3",
   "version": "3.13.5"
  }
 },
 "nbformat": 4,
 "nbformat_minor": 5
}
