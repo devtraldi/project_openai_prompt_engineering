{
 "cells": [
  {
   "cell_type": "markdown",
   "id": "47b96a02-6e57-4905-beb0-be1185b974fd",
   "metadata": {},
   "source": [
    "***Cell 1: Setup - Imports e Configuração da API***"
   ]
  },
  {
   "cell_type": "code",
   "execution_count": 1,
   "id": "198a1c67-aa47-4de9-b0f8-5c6bb9d1d96b",
   "metadata": {},
   "outputs": [
    {
     "name": "stdout",
     "output_type": "stream",
     "text": [
      "✅ Google Gemini client configured successfully.\n"
     ]
    }
   ],
   "source": [
    "import os\n",
    "import google.generativeai as genai\n",
    "from dotenv import load_dotenv\n",
    "import ipywidgets as widgets\n",
    "from IPython.display import display, clear_output\n",
    "\n",
    "# Configure API Key\n",
    "load_dotenv()\n",
    "google_api_key = os.getenv(\"GOOGLE_API_KEY\")\n",
    "if not google_api_key:\n",
    "    raise ValueError(\"Google API key not found in .env file.\")\n",
    "genai.configure(api_key=google_api_key)\n",
    "print(\"✅ Google Gemini client configured successfully.\")"
   ]
  },
  {
   "cell_type": "markdown",
   "id": "46397e7e-e806-4788-a218-dfba0816b836",
   "metadata": {},
   "source": [
    "***Cell 2: O Painel de Controlo (Widgets Interativos)***"
   ]
  },
  {
   "cell_type": "code",
   "execution_count": 2,
   "id": "d8264281-0208-45bb-89b7-5c01195708bb",
   "metadata": {},
   "outputs": [
    {
     "name": "stdout",
     "output_type": "stream",
     "text": [
      "--- Prompt Engineering Playground ---\n"
     ]
    },
    {
     "data": {
      "application/vnd.jupyter.widget-view+json": {
       "model_id": "622b1bc08ad54c659a2d22d3c31273b9",
       "version_major": 2,
       "version_minor": 0
      },
      "text/plain": [
       "Dropdown(description='Model:', index=1, options=('gemini-2.5-flash', 'gemini-1.5-flash-latest', 'gemini-2.5-pr…"
      ]
     },
     "metadata": {},
     "output_type": "display_data"
    },
    {
     "data": {
      "application/vnd.jupyter.widget-view+json": {
       "model_id": "92e7436feb404fd4b8fa532750fe0d26",
       "version_major": 2,
       "version_minor": 0
      },
      "text/plain": [
       "FloatSlider(value=0.7, description='Temperature:', max=2.0, readout_format='.1f')"
      ]
     },
     "metadata": {},
     "output_type": "display_data"
    },
    {
     "data": {
      "application/vnd.jupyter.widget-view+json": {
       "model_id": "ce8a180a2b304971b9eae00789425135",
       "version_major": 2,
       "version_minor": 0
      },
      "text/plain": [
       "IntSlider(value=2048, description='Max Tokens:', max=8192, min=256, step=256)"
      ]
     },
     "metadata": {},
     "output_type": "display_data"
    },
    {
     "data": {
      "application/vnd.jupyter.widget-view+json": {
       "model_id": "a994eaf6c27142509450a69806177b61",
       "version_major": 2,
       "version_minor": 0
      },
      "text/plain": [
       "Textarea(value='You are a helpful and creative AI assistant.', description='System Prompt:', layout=Layout(hei…"
      ]
     },
     "metadata": {},
     "output_type": "display_data"
    },
    {
     "data": {
      "application/vnd.jupyter.widget-view+json": {
       "model_id": "cde1892051e0478e900006430e1bcc12",
       "version_major": 2,
       "version_minor": 0
      },
      "text/plain": [
       "Textarea(value=\"Explain the concept of 'prompt engineering' to a junior developer, providing a simple analogy.…"
      ]
     },
     "metadata": {},
     "output_type": "display_data"
    },
    {
     "data": {
      "application/vnd.jupyter.widget-view+json": {
       "model_id": "e09136d5bcf1458aa5efe89010c1125d",
       "version_major": 2,
       "version_minor": 0
      },
      "text/plain": [
       "Button(button_style='success', description='Generate Response', icon='rocket', style=ButtonStyle())"
      ]
     },
     "metadata": {},
     "output_type": "display_data"
    },
    {
     "data": {
      "application/vnd.jupyter.widget-view+json": {
       "model_id": "11e22e91c5a1474d83b708942f2672ab",
       "version_major": 2,
       "version_minor": 0
      },
      "text/plain": [
       "Output()"
      ]
     },
     "metadata": {},
     "output_type": "display_data"
    }
   ],
   "source": [
    "# Model Selector with updated, valid model names\n",
    "model_selector = widgets.Dropdown(\n",
    "    options=['gemini-2.5-flash', 'gemini-1.5-flash-latest', 'gemini-2.5-pro'],\n",
    "    value='gemini-1.5-flash-latest',\n",
    "    description='Model:',\n",
    ")\n",
    "\n",
    "# Temperature Slider now goes up to 2.0\n",
    "temperature_slider = widgets.FloatSlider(\n",
    "    value=0.7, min=0, max=2.0, step=0.1, description='Temperature:', readout_format='.1f'\n",
    ")\n",
    "\n",
    "# Max Tokens Slider with a safe range\n",
    "max_tokens_slider = widgets.IntSlider(\n",
    "    value=2048, min=256, max=8192, step=256, description='Max Tokens:'\n",
    ")\n",
    "\n",
    "# Prompting Text Areas\n",
    "system_prompt_input = widgets.Textarea(\n",
    "    value='You are a helpful and creative AI assistant.',\n",
    "    description='System Prompt:', layout={'height': '100px', 'width': '100%'}\n",
    ")\n",
    "user_prompt_input = widgets.Textarea(\n",
    "    value=\"Explain the concept of 'prompt engineering' to a junior developer, providing a simple analogy.\",\n",
    "    description='User Prompt:', layout={'height': '200px', 'width': '100%'}\n",
    ")\n",
    "\n",
    "# Execution Button & Output Area\n",
    "run_button = widgets.Button(description='Generate Response', button_style='success', icon='rocket')\n",
    "output_area = widgets.Output()\n",
    "\n",
    "# Display the control panel\n",
    "print(\"--- Prompt Engineering Playground ---\")\n",
    "display(model_selector, temperature_slider, max_tokens_slider, system_prompt_input, user_prompt_input, run_button, output_area)"
   ]
  },
  {
   "cell_type": "markdown",
   "id": "c26afd40-6c75-473f-8a73-239c4c4abeb4",
   "metadata": {},
   "source": [
    "***Cell 3: A Lógica de Execução (O \"Motor\")***"
   ]
  },
  {
   "cell_type": "code",
   "execution_count": 3,
   "id": "7bd173ce-9905-423f-b8aa-27ec650b343e",
   "metadata": {},
   "outputs": [],
   "source": [
    "def generate_response_with_streaming(b):\n",
    "    \"\"\"Triggers on button click, calls Gemini API with streaming.\"\"\"\n",
    "    with output_area:\n",
    "        clear_output()\n",
    "        print(\"🚀 Sending request to Gemini...\")\n",
    "\n",
    "        # Gather values from widgets\n",
    "        selected_model = model_selector.value\n",
    "        generation_config = {\n",
    "            \"temperature\": temperature_slider.value,\n",
    "            \"max_output_tokens\": max_tokens_slider.value,\n",
    "        }\n",
    "        \n",
    "        try:\n",
    "            # Initialize the model with the system prompt\n",
    "            model = genai.GenerativeModel(\n",
    "                selected_model,\n",
    "                system_instruction=system_prompt_input.value\n",
    "            )\n",
    "\n",
    "            # Generate content with stream=True\n",
    "            response_stream = model.generate_content(user_prompt_input.value, stream=True)\n",
    "\n",
    "            # --- STREAMING AND OUTPUT HANDLING ---\n",
    "            clear_output()\n",
    "            print(\"--- ✅ Gemini's Streaming Response ---\")\n",
    "            \n",
    "            # Create an HTML widget to display the streaming text\n",
    "            html_output = widgets.HTML(value=\"\")\n",
    "            display(html_output)\n",
    "            \n",
    "            full_response_text = \"\"\n",
    "            # Iterate through the chunks of the stream\n",
    "            for chunk in response_stream:\n",
    "                if chunk.text:\n",
    "                    full_response_text += chunk.text\n",
    "                    # Update the HTML widget's value to create the streaming effect\n",
    "                    html_output.value = full_response_text.replace('\\n', '<br>')\n",
    "            \n",
    "            # Final check for empty response after stream is complete\n",
    "            if not full_response_text.strip():\n",
    "                html_output.value = \"<i>O modelo não retornou nenhum conteúdo. Tente um prompt diferente ou verifique as configurações de segurança da sua API Key.</i>\"\n",
    "\n",
    "        except Exception as e:\n",
    "            # Catch errors like invalid token limits or other API issues\n",
    "            clear_output()\n",
    "            print(f\"--- ❌ An error occurred ---\")\n",
    "            display(widgets.HTML(value=f\"<p style='color:red;'>{e}</p>\"))"
   ]
  },
  {
   "cell_type": "markdown",
   "id": "6e4adf58-6499-47eb-a5de-4acba3544aac",
   "metadata": {},
   "source": [
    "***Cell 4: Ligar o Botão à Lógica***"
   ]
  },
  {
   "cell_type": "code",
   "execution_count": 4,
   "id": "2ab88f7b-4ebb-46d2-9ff1-5fad38e5341a",
   "metadata": {},
   "outputs": [],
   "source": [
    "# This line \"connects\" the button to our function.\n",
    "# When the button is clicked, the 'generate_response' function will be executed.\n",
    "run_button.on_click(generate_response_with_streaming)"
   ]
  },
  {
   "cell_type": "code",
   "execution_count": null,
   "id": "513d4160-f5e0-4435-8463-b6876d122ace",
   "metadata": {},
   "outputs": [],
   "source": []
  },
  {
   "cell_type": "code",
   "execution_count": null,
   "id": "6acbbf5e-677a-4c40-8092-7db05443bcfc",
   "metadata": {},
   "outputs": [],
   "source": []
  }
 ],
 "metadata": {
  "kernelspec": {
   "display_name": "Python 3 (ipykernel)",
   "language": "python",
   "name": "python3"
  },
  "language_info": {
   "codemirror_mode": {
    "name": "ipython",
    "version": 3
   },
   "file_extension": ".py",
   "mimetype": "text/x-python",
   "name": "python",
   "nbconvert_exporter": "python",
   "pygments_lexer": "ipython3",
   "version": "3.13.5"
  }
 },
 "nbformat": 4,
 "nbformat_minor": 5
}
